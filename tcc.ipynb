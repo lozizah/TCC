{
  "nbformat": 4,
  "nbformat_minor": 0,
  "metadata": {
    "colab": {
      "provenance": [],
      "collapsed_sections": [
        "qaTuF5O0yfrI",
        "hQcaEPe0V2BQ",
        "g_krBQ78Tz9D",
        "AQrc_9HDVdxk"
      ]
    },
    "kernelspec": {
      "name": "python3",
      "display_name": "Python 3"
    },
    "language_info": {
      "name": "python"
    }
  },
  "cells": [
    {
      "cell_type": "markdown",
      "source": [
        "# **TCC - REGRESSÃO LOGÍSTICA E REDES NEURAIS RECORRENTES PARA A CLASSIFICAÇÃO DE DISCURSOS DE ÓDIO NO TWITTER DURANTE A CAMPANHA ELEITORAL.**"
      ],
      "metadata": {
        "id": "qaTuF5O0yfrI"
      }
    },
    {
      "cell_type": "markdown",
      "source": [
        "Emanuel Martins Lourençon - 180281\n",
        "\n",
        "Luiza Helena Camargo - 171162"
      ],
      "metadata": {
        "id": "BNoQFAg9SkJW"
      }
    },
    {
      "cell_type": "markdown",
      "source": [
        "#[1] Tweepy"
      ],
      "metadata": {
        "id": "kHVAA1p_SozA"
      }
    },
    {
      "cell_type": "markdown",
      "source": [
        "[1.1] Instalação da biblioteca e autenticação"
      ],
      "metadata": {
        "id": "msbkgThMMUhn"
      }
    },
    {
      "cell_type": "code",
      "source": [
        "pip install git+https://github.com/tweepy/tweepy.git"
      ],
      "metadata": {
        "colab": {
          "base_uri": "https://localhost:8080/"
        },
        "id": "JEaUprCrSuSZ",
        "outputId": "62f70046-df57-476f-9fbc-6268e6bb8280"
      },
      "execution_count": null,
      "outputs": [
        {
          "output_type": "stream",
          "name": "stdout",
          "text": [
            "Looking in indexes: https://pypi.org/simple, https://us-python.pkg.dev/colab-wheels/public/simple/\n",
            "Collecting git+https://github.com/tweepy/tweepy.git\n",
            "  Cloning https://github.com/tweepy/tweepy.git to /tmp/pip-req-build-6r9irmff\n",
            "  Running command git clone -q https://github.com/tweepy/tweepy.git /tmp/pip-req-build-6r9irmff\n",
            "Requirement already satisfied: oauthlib<4,>=3.2.0 in /usr/local/lib/python3.7/dist-packages (from tweepy==4.10.1) (3.2.1)\n",
            "Requirement already satisfied: requests<3,>=2.27.0 in /usr/local/lib/python3.7/dist-packages (from tweepy==4.10.1) (2.28.1)\n",
            "Requirement already satisfied: requests-oauthlib<2,>=1.2.0 in /usr/local/lib/python3.7/dist-packages (from tweepy==4.10.1) (1.3.1)\n",
            "Requirement already satisfied: certifi>=2017.4.17 in /usr/local/lib/python3.7/dist-packages (from requests<3,>=2.27.0->tweepy==4.10.1) (2022.9.24)\n",
            "Requirement already satisfied: urllib3<1.27,>=1.21.1 in /usr/local/lib/python3.7/dist-packages (from requests<3,>=2.27.0->tweepy==4.10.1) (1.24.3)\n",
            "Requirement already satisfied: charset-normalizer<3,>=2 in /usr/local/lib/python3.7/dist-packages (from requests<3,>=2.27.0->tweepy==4.10.1) (2.1.1)\n",
            "Requirement already satisfied: idna<4,>=2.5 in /usr/local/lib/python3.7/dist-packages (from requests<3,>=2.27.0->tweepy==4.10.1) (2.10)\n"
          ]
        }
      ]
    },
    {
      "cell_type": "code",
      "source": [
        "import tweepy as tw\n",
        "import numpy as np\n",
        "\n",
        "auth = tw.Client('AAAAAAAAAAAAAAAAAAAAAADggAEAAAAAF7qw1V8UXCQd1ZcaHwMI0KBHpNo%3DVnJiql2SAFr5cxFmuYVOsJsrgoxcaFRBVMbswBpDWKnSvkYnqd')"
      ],
      "metadata": {
        "id": "3sHlzgAHSwwR"
      },
      "execution_count": null,
      "outputs": []
    },
    {
      "cell_type": "markdown",
      "source": [
        "[1.2] Coletando tweets por palavras chaves"
      ],
      "metadata": {
        "id": "kaNLKwEILypV"
      }
    },
    {
      "cell_type": "code",
      "source": [
        "result = []\n",
        "for tweet in tw.Paginator(auth.search_recent_tweets, query='lula ladrao lang:pt -has:media',  start_time='2022-10-12T00:00:00Z', end_time='2022-10-12T23:59:59Z',\n",
        "                              tweet_fields=['lang','created_at','possibly_sensitive'], max_results=100).flatten(limit=200):\n",
        "  result.append(tweet)"
      ],
      "metadata": {
        "id": "_TsN7gZ7S2TC"
      },
      "execution_count": null,
      "outputs": []
    },
    {
      "cell_type": "markdown",
      "source": [
        "[1.3] Coletando tweets por usuário"
      ],
      "metadata": {
        "id": "hePb_b-kMAEo"
      }
    },
    {
      "cell_type": "code",
      "source": [
        "# Buscando ID dos usuários\n",
        "result = auth.get_user(username='nikolas_dm')\n",
        "result"
      ],
      "metadata": {
        "id": "IJiZwlA8ME15"
      },
      "execution_count": null,
      "outputs": []
    },
    {
      "cell_type": "code",
      "source": [
        "result = []\n",
        "for tweet in tw.Paginator(auth.get_users_tweets,id=758264276, start_time='2022-08-16T00:00:00Z', end_time='2022-10-15T23:59:59Z',\n",
        "                               tweet_fields=['lang','created_at','possibly_sensitive'], max_results=100).flatten(limit=3200):\n",
        " result.append(tweet)"
      ],
      "metadata": {
        "id": "E_L_-_ZBMEo0"
      },
      "execution_count": null,
      "outputs": []
    },
    {
      "cell_type": "markdown",
      "source": [
        "[1.4] Separando as colunas e exibindo"
      ],
      "metadata": {
        "id": "bamCrmD3MsNh"
      }
    },
    {
      "cell_type": "code",
      "source": [
        "import pandas as pd\n",
        "df = pd.DataFrame()\n",
        "\n",
        "colunas = [\n",
        "    'id',\n",
        "    'text',\n",
        "    'created_at',\n",
        "    'lang',\n",
        "    'possibly_sensitive',\n",
        "]\n",
        "\n",
        "df = pd.DataFrame(result,columns=colunas)\n",
        "df.head()"
      ],
      "metadata": {
        "colab": {
          "base_uri": "https://localhost:8080/",
          "height": 206
        },
        "id": "au2UC3L9S45E",
        "outputId": "621ef956-71cf-4005-ba53-87139bd59d03"
      },
      "execution_count": null,
      "outputs": [
        {
          "output_type": "execute_result",
          "data": {
            "text/plain": [
              "                    id                                               text  \\\n",
              "0  1580347558148595712  LULA NO COMPLEXO DO ALEMÃO-RJ, 12/10/2022\\n\\nF...   \n",
              "1  1580347474967158785  RT @FranciscaBadar1: Uma pergunta para Ciro e ...   \n",
              "2  1580347470780846080  RT @nikolas_dm: O TSE  pediu pra eu retirar o ...   \n",
              "3  1580347459867328512  Pai revoltado ,indignado , pede para quem vota...   \n",
              "4  1580347447033102339  @brom_elisa Lula ladrão ladrão ladrão ladrão l...   \n",
              "\n",
              "                 created_at lang  possibly_sensitive  \n",
              "0 2022-10-12 23:59:53+00:00   pt               False  \n",
              "1 2022-10-12 23:59:34+00:00   pt               False  \n",
              "2 2022-10-12 23:59:33+00:00   pt               False  \n",
              "3 2022-10-12 23:59:30+00:00   pt               False  \n",
              "4 2022-10-12 23:59:27+00:00   pt               False  "
            ],
            "text/html": [
              "\n",
              "  <div id=\"df-3b4cd17d-aff8-4a7a-9089-c04269c38b8f\">\n",
              "    <div class=\"colab-df-container\">\n",
              "      <div>\n",
              "<style scoped>\n",
              "    .dataframe tbody tr th:only-of-type {\n",
              "        vertical-align: middle;\n",
              "    }\n",
              "\n",
              "    .dataframe tbody tr th {\n",
              "        vertical-align: top;\n",
              "    }\n",
              "\n",
              "    .dataframe thead th {\n",
              "        text-align: right;\n",
              "    }\n",
              "</style>\n",
              "<table border=\"1\" class=\"dataframe\">\n",
              "  <thead>\n",
              "    <tr style=\"text-align: right;\">\n",
              "      <th></th>\n",
              "      <th>id</th>\n",
              "      <th>text</th>\n",
              "      <th>created_at</th>\n",
              "      <th>lang</th>\n",
              "      <th>possibly_sensitive</th>\n",
              "    </tr>\n",
              "  </thead>\n",
              "  <tbody>\n",
              "    <tr>\n",
              "      <th>0</th>\n",
              "      <td>1580347558148595712</td>\n",
              "      <td>LULA NO COMPLEXO DO ALEMÃO-RJ, 12/10/2022\\n\\nF...</td>\n",
              "      <td>2022-10-12 23:59:53+00:00</td>\n",
              "      <td>pt</td>\n",
              "      <td>False</td>\n",
              "    </tr>\n",
              "    <tr>\n",
              "      <th>1</th>\n",
              "      <td>1580347474967158785</td>\n",
              "      <td>RT @FranciscaBadar1: Uma pergunta para Ciro e ...</td>\n",
              "      <td>2022-10-12 23:59:34+00:00</td>\n",
              "      <td>pt</td>\n",
              "      <td>False</td>\n",
              "    </tr>\n",
              "    <tr>\n",
              "      <th>2</th>\n",
              "      <td>1580347470780846080</td>\n",
              "      <td>RT @nikolas_dm: O TSE  pediu pra eu retirar o ...</td>\n",
              "      <td>2022-10-12 23:59:33+00:00</td>\n",
              "      <td>pt</td>\n",
              "      <td>False</td>\n",
              "    </tr>\n",
              "    <tr>\n",
              "      <th>3</th>\n",
              "      <td>1580347459867328512</td>\n",
              "      <td>Pai revoltado ,indignado , pede para quem vota...</td>\n",
              "      <td>2022-10-12 23:59:30+00:00</td>\n",
              "      <td>pt</td>\n",
              "      <td>False</td>\n",
              "    </tr>\n",
              "    <tr>\n",
              "      <th>4</th>\n",
              "      <td>1580347447033102339</td>\n",
              "      <td>@brom_elisa Lula ladrão ladrão ladrão ladrão l...</td>\n",
              "      <td>2022-10-12 23:59:27+00:00</td>\n",
              "      <td>pt</td>\n",
              "      <td>False</td>\n",
              "    </tr>\n",
              "  </tbody>\n",
              "</table>\n",
              "</div>\n",
              "      <button class=\"colab-df-convert\" onclick=\"convertToInteractive('df-3b4cd17d-aff8-4a7a-9089-c04269c38b8f')\"\n",
              "              title=\"Convert this dataframe to an interactive table.\"\n",
              "              style=\"display:none;\">\n",
              "        \n",
              "  <svg xmlns=\"http://www.w3.org/2000/svg\" height=\"24px\"viewBox=\"0 0 24 24\"\n",
              "       width=\"24px\">\n",
              "    <path d=\"M0 0h24v24H0V0z\" fill=\"none\"/>\n",
              "    <path d=\"M18.56 5.44l.94 2.06.94-2.06 2.06-.94-2.06-.94-.94-2.06-.94 2.06-2.06.94zm-11 1L8.5 8.5l.94-2.06 2.06-.94-2.06-.94L8.5 2.5l-.94 2.06-2.06.94zm10 10l.94 2.06.94-2.06 2.06-.94-2.06-.94-.94-2.06-.94 2.06-2.06.94z\"/><path d=\"M17.41 7.96l-1.37-1.37c-.4-.4-.92-.59-1.43-.59-.52 0-1.04.2-1.43.59L10.3 9.45l-7.72 7.72c-.78.78-.78 2.05 0 2.83L4 21.41c.39.39.9.59 1.41.59.51 0 1.02-.2 1.41-.59l7.78-7.78 2.81-2.81c.8-.78.8-2.07 0-2.86zM5.41 20L4 18.59l7.72-7.72 1.47 1.35L5.41 20z\"/>\n",
              "  </svg>\n",
              "      </button>\n",
              "      \n",
              "  <style>\n",
              "    .colab-df-container {\n",
              "      display:flex;\n",
              "      flex-wrap:wrap;\n",
              "      gap: 12px;\n",
              "    }\n",
              "\n",
              "    .colab-df-convert {\n",
              "      background-color: #E8F0FE;\n",
              "      border: none;\n",
              "      border-radius: 50%;\n",
              "      cursor: pointer;\n",
              "      display: none;\n",
              "      fill: #1967D2;\n",
              "      height: 32px;\n",
              "      padding: 0 0 0 0;\n",
              "      width: 32px;\n",
              "    }\n",
              "\n",
              "    .colab-df-convert:hover {\n",
              "      background-color: #E2EBFA;\n",
              "      box-shadow: 0px 1px 2px rgba(60, 64, 67, 0.3), 0px 1px 3px 1px rgba(60, 64, 67, 0.15);\n",
              "      fill: #174EA6;\n",
              "    }\n",
              "\n",
              "    [theme=dark] .colab-df-convert {\n",
              "      background-color: #3B4455;\n",
              "      fill: #D2E3FC;\n",
              "    }\n",
              "\n",
              "    [theme=dark] .colab-df-convert:hover {\n",
              "      background-color: #434B5C;\n",
              "      box-shadow: 0px 1px 3px 1px rgba(0, 0, 0, 0.15);\n",
              "      filter: drop-shadow(0px 1px 2px rgba(0, 0, 0, 0.3));\n",
              "      fill: #FFFFFF;\n",
              "    }\n",
              "  </style>\n",
              "\n",
              "      <script>\n",
              "        const buttonEl =\n",
              "          document.querySelector('#df-3b4cd17d-aff8-4a7a-9089-c04269c38b8f button.colab-df-convert');\n",
              "        buttonEl.style.display =\n",
              "          google.colab.kernel.accessAllowed ? 'block' : 'none';\n",
              "\n",
              "        async function convertToInteractive(key) {\n",
              "          const element = document.querySelector('#df-3b4cd17d-aff8-4a7a-9089-c04269c38b8f');\n",
              "          const dataTable =\n",
              "            await google.colab.kernel.invokeFunction('convertToInteractive',\n",
              "                                                     [key], {});\n",
              "          if (!dataTable) return;\n",
              "\n",
              "          const docLinkHtml = 'Like what you see? Visit the ' +\n",
              "            '<a target=\"_blank\" href=https://colab.research.google.com/notebooks/data_table.ipynb>data table notebook</a>'\n",
              "            + ' to learn more about interactive tables.';\n",
              "          element.innerHTML = '';\n",
              "          dataTable['output_type'] = 'display_data';\n",
              "          await google.colab.output.renderOutput(dataTable, element);\n",
              "          const docLink = document.createElement('div');\n",
              "          docLink.innerHTML = docLinkHtml;\n",
              "          element.appendChild(docLink);\n",
              "        }\n",
              "      </script>\n",
              "    </div>\n",
              "  </div>\n",
              "  "
            ]
          },
          "metadata": {},
          "execution_count": 37
        }
      ]
    },
    {
      "cell_type": "markdown",
      "source": [
        "[1.5] Salvando o arquivo em .csv separando as colunas por |"
      ],
      "metadata": {
        "id": "zV9P8uHWMm8c"
      }
    },
    {
      "cell_type": "code",
      "source": [
        "file = 'fascismo_06.csv'\n",
        "df.to_csv(file, encoding='utf-8', index=False, sep='|')"
      ],
      "metadata": {
        "id": "y8vL7gmTS9Zy"
      },
      "execution_count": null,
      "outputs": []
    },
    {
      "cell_type": "markdown",
      "source": [
        "# [2] Pré-processamentos"
      ],
      "metadata": {
        "id": "hQcaEPe0V2BQ"
      }
    },
    {
      "cell_type": "code",
      "source": [
        "import re\n",
        "from sklearn.feature_extraction.text import CountVectorizer\n",
        "import nltk\n",
        "from nltk import tokenize\n",
        "\n",
        "def preprocessamento(texto, hasLanguage=True):\n",
        "  texto[\"text\"] = texto[\"text\"].replace(to_replace = \"@[A-Za-z0-9_]*\", value = \"\", regex = True) #Remover o @ dos usuários do tweet\n",
        "  texto[\"text\"] = texto[\"text\"].replace(to_replace = \"\\\\n\", value = \" \", regex = True) #Remover o \\n do texto\n",
        "  texto[\"text\"] = texto[\"text\"].replace(to_replace = \"'\", value = \"\", regex = True) #Remover '' das palavras\n",
        "  texto[\"text\"] = texto[\"text\"].replace(to_replace = \"http[^ ]+\", value = \"\", regex = True) #Remover links\n",
        "  texto[\"text\"] = texto[\"text\"].replace(to_replace = \"www.[^ ]+\", value = \"\", regex = True) #Remover links\n",
        "  texto[\"text\"] = texto[\"text\"].replace(to_replace = \"^RT \", value = \"\", regex = True) #Remover a palavra RT\n",
        "  texto[\"text\"] = texto[\"text\"].replace(to_replace = \"#[^ ]+ \", value = \"\", regex = True) #Remover #\n",
        "  \n",
        "  #if hasLanguage:\n",
        "  #  texto = texto.drop_duplicates()\n",
        "  #  texto = texto[texto['lang'] == 'pt'] #Remover tweets que não forem em português\n",
        "\n",
        "  #Remover palavras irrelevantes sem pontuação\n",
        "\n",
        "  nltk.download('stopwords')\n",
        "\n",
        "  palavras_irrelevantes = nltk.corpus.stopwords.words(\"portuguese\")\n",
        "  frase_processada = list()\n",
        "\n",
        "  token_espaco = tokenize.WhitespaceTokenizer()\n",
        "\n",
        "  for tweet in texto['text']:\n",
        "      nova_frase = list()\n",
        "      palavras_texto = token_espaco.tokenize(tweet)\n",
        "      for palavra in palavras_texto:\n",
        "          if palavra not in palavras_irrelevantes:\n",
        "              nova_frase.append(palavra)\n",
        "      frase_processada.append(' '.join(nova_frase))\n",
        "      \n",
        "  texto[\"tratamento_1\"] = frase_processada\n",
        "\n",
        "  #Remover palavras irrelevantes com pontuação\n",
        "\n",
        "  from string import punctuation\n",
        "\n",
        "  pontuacao = list()\n",
        "  for ponto in punctuation:\n",
        "      pontuacao.append(ponto)\n",
        "\n",
        "  pontuacao_stopwords = pontuacao + palavras_irrelevantes\n",
        "  token_pontuacao = tokenize.WordPunctTokenizer()\n",
        "\n",
        "  frase_processada = list()\n",
        "  for opiniao in texto[\"tratamento_1\"]:\n",
        "      nova_frase = list()\n",
        "      palavras_texto = token_pontuacao.tokenize(opiniao)\n",
        "      for palavra in palavras_texto:\n",
        "          if palavra not in pontuacao_stopwords:\n",
        "              nova_frase.append(palavra)\n",
        "      frase_processada.append(' '.join(nova_frase))\n",
        "      \n",
        "  texto[\"tratamento_2\"] = frase_processada\n",
        "\n",
        "  #Remover os acentos de todas as palavras da base e filtro das palavras irrelevantes sem acento\n",
        "\n",
        "  !pip install unidecode\n",
        "  import unidecode\n",
        "\n",
        "  sem_acentos = [unidecode.unidecode(texto) for texto in texto[\"tratamento_2\"]]\n",
        "  stopwords_sem_acento = [unidecode.unidecode(texto) for texto in pontuacao_stopwords]\n",
        "\n",
        "  texto[\"tratamento_3\"] = sem_acentos\n",
        "\n",
        "  frase_processada = list()\n",
        "  for opiniao in texto[\"tratamento_3\"]:\n",
        "      nova_frase = list()\n",
        "      palavras_texto = token_pontuacao.tokenize(opiniao)\n",
        "      for palavra in palavras_texto:\n",
        "          if palavra not in stopwords_sem_acento:\n",
        "              nova_frase.append(palavra)\n",
        "      frase_processada.append(' '.join(nova_frase))\n",
        "      \n",
        "  texto[\"tratamento_3\"] = frase_processada\n",
        "\n",
        "  #Transformar a base toda em minúsculo\n",
        "\n",
        "  frase_processada = list()\n",
        "  for opiniao in texto[\"tratamento_3\"]:\n",
        "      nova_frase = list()\n",
        "      opiniao = opiniao.lower()\n",
        "      palavras_texto = token_pontuacao.tokenize(opiniao)\n",
        "      for palavra in palavras_texto:\n",
        "          if palavra not in stopwords_sem_acento:\n",
        "              nova_frase.append(palavra)\n",
        "      frase_processada.append(' '.join(nova_frase))\n",
        "      \n",
        "  texto[\"tratamento_4\"] = frase_processada\n",
        "\n",
        "  #Normalizar as palavras\n",
        "\n",
        "  nltk.download('rslp')\n",
        "  stemmer = nltk.RSLPStemmer()\n",
        "\n",
        "  frase_processada = list()\n",
        "  for opiniao in texto[\"tratamento_4\"]:\n",
        "      nova_frase = list()\n",
        "      palavras_texto = token_pontuacao.tokenize(opiniao)\n",
        "      for palavra in palavras_texto:\n",
        "          if palavra not in stopwords_sem_acento:\n",
        "              nova_frase.append(stemmer.stem(palavra))\n",
        "      frase_processada.append(' '.join(nova_frase))\n",
        "      \n",
        "  texto[\"tratamento_5\"] = frase_processada"
      ],
      "metadata": {
        "id": "N5scxOXEKfuM"
      },
      "execution_count": null,
      "outputs": []
    },
    {
      "cell_type": "markdown",
      "source": [
        "#[3] Carregando a base de discurso de ódio e as bases dos candidatos"
      ],
      "metadata": {
        "id": "0M6VRmpOmPGv"
      }
    },
    {
      "cell_type": "code",
      "source": [
        "from google.colab import drive\n",
        "drive.mount('/content/drive')"
      ],
      "metadata": {
        "colab": {
          "base_uri": "https://localhost:8080/"
        },
        "id": "2G7LPgjMJAWF",
        "outputId": "8d4354db-f013-433f-c166-edb16ca4fa82"
      },
      "execution_count": null,
      "outputs": [
        {
          "output_type": "stream",
          "name": "stdout",
          "text": [
            "Mounted at /content/drive\n"
          ]
        }
      ]
    },
    {
      "cell_type": "code",
      "source": [
        "import pandas as pd\n",
        "\n",
        "#Carregar as bases\n",
        "tweets = pd.read_csv(\"drive/MyDrive/Colab_Datasets/todos-2.txt\", sep=\"|\")\n",
        "odio = pd.read_csv(\"drive/MyDrive/Colab_Datasets/odio_2.csv\")\n",
        "lula = pd.read_csv(\"drive/MyDrive/Colab_Datasets/lula.csv\", sep=\"|\")\n",
        "boulos = pd.read_csv(\"drive/MyDrive/Colab_Datasets/boulos.csv\", sep=\"|\")\n",
        "bolsonaro = pd.read_csv(\"drive/MyDrive/Colab_Datasets/bolsonaro.csv\", sep=\"|\")\n",
        "nikolas = pd.read_csv(\"drive/MyDrive/Colab_Datasets/nikolas.csv\", sep=\"|\")\n",
        "\n",
        "#Pre-procesamento das bases\n",
        "preprocessamento(tweets)\n",
        "preprocessamento(odio, False)\n",
        "preprocessamento(lula)\n",
        "preprocessamento(bolsonamro)\n",
        "preprocessamento(nikolas)\n",
        "preprocessamento(boulos)"
      ],
      "metadata": {
        "colab": {
          "base_uri": "https://localhost:8080/"
        },
        "id": "jE1552HmmNPe",
        "outputId": "e0c02408-7024-477b-ab91-115dbb59daa1"
      },
      "execution_count": null,
      "outputs": [
        {
          "output_type": "stream",
          "name": "stderr",
          "text": [
            "[nltk_data] Downloading package stopwords to /root/nltk_data...\n",
            "[nltk_data]   Unzipping corpora/stopwords.zip.\n"
          ]
        },
        {
          "output_type": "stream",
          "name": "stdout",
          "text": [
            "Looking in indexes: https://pypi.org/simple, https://us-python.pkg.dev/colab-wheels/public/simple/\n",
            "Collecting unidecode\n",
            "  Downloading Unidecode-1.3.6-py3-none-any.whl (235 kB)\n",
            "\u001b[K     |████████████████████████████████| 235 kB 18.7 MB/s \n",
            "\u001b[?25hInstalling collected packages: unidecode\n",
            "Successfully installed unidecode-1.3.6\n"
          ]
        },
        {
          "output_type": "stream",
          "name": "stderr",
          "text": [
            "[nltk_data] Downloading package rslp to /root/nltk_data...\n",
            "[nltk_data]   Unzipping stemmers/rslp.zip.\n",
            "[nltk_data] Downloading package stopwords to /root/nltk_data...\n",
            "[nltk_data]   Package stopwords is already up-to-date!\n"
          ]
        },
        {
          "output_type": "stream",
          "name": "stdout",
          "text": [
            "Looking in indexes: https://pypi.org/simple, https://us-python.pkg.dev/colab-wheels/public/simple/\n",
            "Requirement already satisfied: unidecode in /usr/local/lib/python3.7/dist-packages (1.3.6)\n"
          ]
        },
        {
          "output_type": "stream",
          "name": "stderr",
          "text": [
            "[nltk_data] Downloading package rslp to /root/nltk_data...\n",
            "[nltk_data]   Package rslp is already up-to-date!\n",
            "[nltk_data] Downloading package stopwords to /root/nltk_data...\n",
            "[nltk_data]   Package stopwords is already up-to-date!\n"
          ]
        },
        {
          "output_type": "stream",
          "name": "stdout",
          "text": [
            "Looking in indexes: https://pypi.org/simple, https://us-python.pkg.dev/colab-wheels/public/simple/\n",
            "Requirement already satisfied: unidecode in /usr/local/lib/python3.7/dist-packages (1.3.6)\n"
          ]
        },
        {
          "output_type": "stream",
          "name": "stderr",
          "text": [
            "[nltk_data] Downloading package rslp to /root/nltk_data...\n",
            "[nltk_data]   Package rslp is already up-to-date!\n",
            "[nltk_data] Downloading package stopwords to /root/nltk_data...\n",
            "[nltk_data]   Package stopwords is already up-to-date!\n"
          ]
        },
        {
          "output_type": "stream",
          "name": "stdout",
          "text": [
            "Looking in indexes: https://pypi.org/simple, https://us-python.pkg.dev/colab-wheels/public/simple/\n",
            "Requirement already satisfied: unidecode in /usr/local/lib/python3.7/dist-packages (1.3.6)\n"
          ]
        },
        {
          "output_type": "stream",
          "name": "stderr",
          "text": [
            "[nltk_data] Downloading package rslp to /root/nltk_data...\n",
            "[nltk_data]   Package rslp is already up-to-date!\n",
            "[nltk_data] Downloading package stopwords to /root/nltk_data...\n",
            "[nltk_data]   Package stopwords is already up-to-date!\n"
          ]
        },
        {
          "output_type": "stream",
          "name": "stdout",
          "text": [
            "Looking in indexes: https://pypi.org/simple, https://us-python.pkg.dev/colab-wheels/public/simple/\n",
            "Requirement already satisfied: unidecode in /usr/local/lib/python3.7/dist-packages (1.3.6)\n"
          ]
        },
        {
          "output_type": "stream",
          "name": "stderr",
          "text": [
            "[nltk_data] Downloading package rslp to /root/nltk_data...\n",
            "[nltk_data]   Package rslp is already up-to-date!\n",
            "[nltk_data] Downloading package stopwords to /root/nltk_data...\n",
            "[nltk_data]   Package stopwords is already up-to-date!\n"
          ]
        },
        {
          "output_type": "stream",
          "name": "stdout",
          "text": [
            "Looking in indexes: https://pypi.org/simple, https://us-python.pkg.dev/colab-wheels/public/simple/\n",
            "Requirement already satisfied: unidecode in /usr/local/lib/python3.7/dist-packages (1.3.6)\n"
          ]
        },
        {
          "output_type": "stream",
          "name": "stderr",
          "text": [
            "[nltk_data] Downloading package rslp to /root/nltk_data...\n",
            "[nltk_data]   Package rslp is already up-to-date!\n"
          ]
        }
      ]
    },
    {
      "cell_type": "code",
      "source": [
        "print(\"Quantidade da base de tweets: \", len(tweets))\n",
        "print(\"Quantidade da base de Ódio: \", len(odio))\n",
        "print(\"Quantidade da base do Boulos: \", len(boulos))\n",
        "print(\"Quantidade da base do Bolsonaro: \", len(bolsonaro))\n",
        "print(\"Quantidade da base do Nikolas: \", len(nikolas))\n",
        "print(\"Quantidade da base do Lula: \", len(lula))"
      ],
      "metadata": {
        "colab": {
          "base_uri": "https://localhost:8080/"
        },
        "id": "SG-kxMo5Ynjn",
        "outputId": "bc688733-c53c-4e1f-ad11-b4d349a26dd7"
      },
      "execution_count": null,
      "outputs": [
        {
          "output_type": "stream",
          "name": "stdout",
          "text": [
            "Quantidade da base de tweets:  36375\n",
            "Quantidade da base de Ódio:  5670\n",
            "Quantidade da base do Boulos:  1352\n",
            "Quantidade da base do Bolsonaro:  564\n",
            "Quantidade da base do Nikolas:  701\n",
            "Quantidade da base do Lula:  1443\n"
          ]
        }
      ]
    },
    {
      "cell_type": "code",
      "source": [
        "result = odio[odio.hatespeech_comb == 1]\n",
        "result\n"
      ],
      "metadata": {
        "colab": {
          "base_uri": "https://localhost:8080/",
          "height": 1000
        },
        "id": "6x25zxq9Ba24",
        "outputId": "4dd213fc-dac4-49b4-8a2c-5d348c7f8b4e"
      },
      "execution_count": null,
      "outputs": [
        {
          "output_type": "execute_result",
          "data": {
            "text/plain": [
              "                                                   text  hatespeech_comb  \\\n",
              "0       O cara vive em outro mundo Não no mundo real...                1   \n",
              "4                            bom dia macaco branco haha                1   \n",
              "17     Perfume pra mão jovem amante.....pra mão. Cap...                1   \n",
              "18           Estimo que se foda será mais profissional.                1   \n",
              "19                        bom dia sapatao da minha vida                1   \n",
              "...                                                 ...              ...   \n",
              "5655   O Islão não é uma religião como as outras.É u...                1   \n",
              "5661                       Tô esperando a sapatão fazer                1   \n",
              "5666   sei das cotas, mas não sabia disso, putaria d...                1   \n",
              "5668   seguir no tt é facíl, apresentar as amigas sa...                1   \n",
              "5669  na vdd a culpa é do menino de 11 anos otário q...                1   \n",
              "\n",
              "      hatespeech_G1 annotator_G1  hatespeech_G2 annotator_G2  hatespeech_G3  \\\n",
              "0                 1            A            1.0            V              0   \n",
              "4                 0            A            1.0            I              1   \n",
              "17                1            D            1.0           It              0   \n",
              "18                1            D            0.0            B              1   \n",
              "19                1            A            1.0         Dani              1   \n",
              "...             ...          ...            ...          ...            ...   \n",
              "5655              1            E            1.0            V              0   \n",
              "5661              1            D            1.0           It              1   \n",
              "5666              1            D            1.0           It              0   \n",
              "5668              1            C            1.0            S              0   \n",
              "5669              1            E            1.0           It              0   \n",
              "\n",
              "     annotator_G3                                       tratamento_1  \\\n",
              "0               E  O cara vive outro mundo Não mundo real REFUGIA...   \n",
              "4               E                         bom dia macaco branco haha   \n",
              "17              E  Perfume pra mão jovem amante.....pra mão. Capp...   \n",
              "18              B                          Estimo foda profissional.   \n",
              "19              C                               bom dia sapatao vida   \n",
              "...           ...                                                ...   \n",
              "5655            D  O Islão religião outras.É doutrina totalitária...   \n",
              "5661            C                         Tô esperando sapatão fazer   \n",
              "5666            A              sei cotas, sabia disso, putaria porra   \n",
              "5668            A  seguir tt facíl, apresentar amigas sapatão ngm...   \n",
              "5669            D  vdd culpa menino 11 anos otário chamava burra/...   \n",
              "\n",
              "                                           tratamento_2  \\\n",
              "0     O cara vive outro mundo Não mundo real REFUGIA...   \n",
              "4                            bom dia macaco branco haha   \n",
              "17    Perfume pra mão jovem amante ..... pra mão Cap...   \n",
              "18                             Estimo foda profissional   \n",
              "19                                 bom dia sapatao vida   \n",
              "...                                                 ...   \n",
              "5655  O Islão religião outras É doutrina totalitária...   \n",
              "5661                         Tô esperando sapatão fazer   \n",
              "5666                sei cotas sabia disso putaria porra   \n",
              "5668  seguir tt facíl apresentar amigas sapatão ngm ...   \n",
              "5669  vdd culpa menino 11 anos otário chamava burra ...   \n",
              "\n",
              "                                           tratamento_3  \\\n",
              "0     O cara vive outro mundo Nao mundo real REFUGIA...   \n",
              "4                            bom dia macaco branco haha   \n",
              "17    Perfume pra mao jovem amante ..... pra mao Cap...   \n",
              "18                             Estimo foda profissional   \n",
              "19                                 bom dia sapatao vida   \n",
              "...                                                 ...   \n",
              "5655  O Islao religiao outras E doutrina totalitaria...   \n",
              "5661                         To esperando sapatao fazer   \n",
              "5666                sei cotas sabia disso putaria porra   \n",
              "5668  seguir tt facil apresentar amigas sapatao ngm ...   \n",
              "5669  vdd culpa menino 11 anos otario chamava burra ...   \n",
              "\n",
              "                                           tratamento_4  \\\n",
              "0     cara vive outro mundo mundo real refugiados vi...   \n",
              "4                            bom dia macaco branco haha   \n",
              "17    perfume pra mao jovem amante ..... pra mao cap...   \n",
              "18                             estimo foda profissional   \n",
              "19                                 bom dia sapatao vida   \n",
              "...                                                 ...   \n",
              "5655  islao religiao outras doutrina totalitaria lit...   \n",
              "5661                         to esperando sapatao fazer   \n",
              "5666                sei cotas sabia disso putaria porra   \n",
              "5668  seguir tt facil apresentar amigas sapatao ngm ...   \n",
              "5669  vdd culpa menino 11 anos otario chamava burra ...   \n",
              "\n",
              "                                           tratamento_5  \n",
              "0     car viv outr mund mund real refugi viv favel v...  \n",
              "4                               bom dia macac branc hah  \n",
              "17             perfum pra mao jov am ..... pra mao capp  \n",
              "18                                      est fod profiss  \n",
              "19                                   bom dia sapata vid  \n",
              "...                                                 ...  \n",
              "5655  isla religia outr doutrin totalit liter escrit...  \n",
              "5661                                to esper sapata faz  \n",
              "5666                          sei cot sab diss put porr  \n",
              "5668   segu tt facil apresent amig sapata ngm qu kkkkkk  \n",
              "5669  vdd culp menin 11 ano otari cham burr gord fei...  \n",
              "\n",
              "[1788 rows x 13 columns]"
            ],
            "text/html": [
              "\n",
              "  <div id=\"df-2f60a666-8ba3-4d6f-ae65-cd4b01545fa4\">\n",
              "    <div class=\"colab-df-container\">\n",
              "      <div>\n",
              "<style scoped>\n",
              "    .dataframe tbody tr th:only-of-type {\n",
              "        vertical-align: middle;\n",
              "    }\n",
              "\n",
              "    .dataframe tbody tr th {\n",
              "        vertical-align: top;\n",
              "    }\n",
              "\n",
              "    .dataframe thead th {\n",
              "        text-align: right;\n",
              "    }\n",
              "</style>\n",
              "<table border=\"1\" class=\"dataframe\">\n",
              "  <thead>\n",
              "    <tr style=\"text-align: right;\">\n",
              "      <th></th>\n",
              "      <th>text</th>\n",
              "      <th>hatespeech_comb</th>\n",
              "      <th>hatespeech_G1</th>\n",
              "      <th>annotator_G1</th>\n",
              "      <th>hatespeech_G2</th>\n",
              "      <th>annotator_G2</th>\n",
              "      <th>hatespeech_G3</th>\n",
              "      <th>annotator_G3</th>\n",
              "      <th>tratamento_1</th>\n",
              "      <th>tratamento_2</th>\n",
              "      <th>tratamento_3</th>\n",
              "      <th>tratamento_4</th>\n",
              "      <th>tratamento_5</th>\n",
              "    </tr>\n",
              "  </thead>\n",
              "  <tbody>\n",
              "    <tr>\n",
              "      <th>0</th>\n",
              "      <td>O cara vive em outro mundo Não no mundo real...</td>\n",
              "      <td>1</td>\n",
              "      <td>1</td>\n",
              "      <td>A</td>\n",
              "      <td>1.0</td>\n",
              "      <td>V</td>\n",
              "      <td>0</td>\n",
              "      <td>E</td>\n",
              "      <td>O cara vive outro mundo Não mundo real REFUGIA...</td>\n",
              "      <td>O cara vive outro mundo Não mundo real REFUGIA...</td>\n",
              "      <td>O cara vive outro mundo Nao mundo real REFUGIA...</td>\n",
              "      <td>cara vive outro mundo mundo real refugiados vi...</td>\n",
              "      <td>car viv outr mund mund real refugi viv favel v...</td>\n",
              "    </tr>\n",
              "    <tr>\n",
              "      <th>4</th>\n",
              "      <td>bom dia macaco branco haha</td>\n",
              "      <td>1</td>\n",
              "      <td>0</td>\n",
              "      <td>A</td>\n",
              "      <td>1.0</td>\n",
              "      <td>I</td>\n",
              "      <td>1</td>\n",
              "      <td>E</td>\n",
              "      <td>bom dia macaco branco haha</td>\n",
              "      <td>bom dia macaco branco haha</td>\n",
              "      <td>bom dia macaco branco haha</td>\n",
              "      <td>bom dia macaco branco haha</td>\n",
              "      <td>bom dia macac branc hah</td>\n",
              "    </tr>\n",
              "    <tr>\n",
              "      <th>17</th>\n",
              "      <td>Perfume pra mão jovem amante.....pra mão. Cap...</td>\n",
              "      <td>1</td>\n",
              "      <td>1</td>\n",
              "      <td>D</td>\n",
              "      <td>1.0</td>\n",
              "      <td>It</td>\n",
              "      <td>0</td>\n",
              "      <td>E</td>\n",
              "      <td>Perfume pra mão jovem amante.....pra mão. Capp...</td>\n",
              "      <td>Perfume pra mão jovem amante ..... pra mão Cap...</td>\n",
              "      <td>Perfume pra mao jovem amante ..... pra mao Cap...</td>\n",
              "      <td>perfume pra mao jovem amante ..... pra mao cap...</td>\n",
              "      <td>perfum pra mao jov am ..... pra mao capp</td>\n",
              "    </tr>\n",
              "    <tr>\n",
              "      <th>18</th>\n",
              "      <td>Estimo que se foda será mais profissional.</td>\n",
              "      <td>1</td>\n",
              "      <td>1</td>\n",
              "      <td>D</td>\n",
              "      <td>0.0</td>\n",
              "      <td>B</td>\n",
              "      <td>1</td>\n",
              "      <td>B</td>\n",
              "      <td>Estimo foda profissional.</td>\n",
              "      <td>Estimo foda profissional</td>\n",
              "      <td>Estimo foda profissional</td>\n",
              "      <td>estimo foda profissional</td>\n",
              "      <td>est fod profiss</td>\n",
              "    </tr>\n",
              "    <tr>\n",
              "      <th>19</th>\n",
              "      <td>bom dia sapatao da minha vida</td>\n",
              "      <td>1</td>\n",
              "      <td>1</td>\n",
              "      <td>A</td>\n",
              "      <td>1.0</td>\n",
              "      <td>Dani</td>\n",
              "      <td>1</td>\n",
              "      <td>C</td>\n",
              "      <td>bom dia sapatao vida</td>\n",
              "      <td>bom dia sapatao vida</td>\n",
              "      <td>bom dia sapatao vida</td>\n",
              "      <td>bom dia sapatao vida</td>\n",
              "      <td>bom dia sapata vid</td>\n",
              "    </tr>\n",
              "    <tr>\n",
              "      <th>...</th>\n",
              "      <td>...</td>\n",
              "      <td>...</td>\n",
              "      <td>...</td>\n",
              "      <td>...</td>\n",
              "      <td>...</td>\n",
              "      <td>...</td>\n",
              "      <td>...</td>\n",
              "      <td>...</td>\n",
              "      <td>...</td>\n",
              "      <td>...</td>\n",
              "      <td>...</td>\n",
              "      <td>...</td>\n",
              "      <td>...</td>\n",
              "    </tr>\n",
              "    <tr>\n",
              "      <th>5655</th>\n",
              "      <td>O Islão não é uma religião como as outras.É u...</td>\n",
              "      <td>1</td>\n",
              "      <td>1</td>\n",
              "      <td>E</td>\n",
              "      <td>1.0</td>\n",
              "      <td>V</td>\n",
              "      <td>0</td>\n",
              "      <td>D</td>\n",
              "      <td>O Islão religião outras.É doutrina totalitária...</td>\n",
              "      <td>O Islão religião outras É doutrina totalitária...</td>\n",
              "      <td>O Islao religiao outras E doutrina totalitaria...</td>\n",
              "      <td>islao religiao outras doutrina totalitaria lit...</td>\n",
              "      <td>isla religia outr doutrin totalit liter escrit...</td>\n",
              "    </tr>\n",
              "    <tr>\n",
              "      <th>5661</th>\n",
              "      <td>Tô esperando a sapatão fazer</td>\n",
              "      <td>1</td>\n",
              "      <td>1</td>\n",
              "      <td>D</td>\n",
              "      <td>1.0</td>\n",
              "      <td>It</td>\n",
              "      <td>1</td>\n",
              "      <td>C</td>\n",
              "      <td>Tô esperando sapatão fazer</td>\n",
              "      <td>Tô esperando sapatão fazer</td>\n",
              "      <td>To esperando sapatao fazer</td>\n",
              "      <td>to esperando sapatao fazer</td>\n",
              "      <td>to esper sapata faz</td>\n",
              "    </tr>\n",
              "    <tr>\n",
              "      <th>5666</th>\n",
              "      <td>sei das cotas, mas não sabia disso, putaria d...</td>\n",
              "      <td>1</td>\n",
              "      <td>1</td>\n",
              "      <td>D</td>\n",
              "      <td>1.0</td>\n",
              "      <td>It</td>\n",
              "      <td>0</td>\n",
              "      <td>A</td>\n",
              "      <td>sei cotas, sabia disso, putaria porra</td>\n",
              "      <td>sei cotas sabia disso putaria porra</td>\n",
              "      <td>sei cotas sabia disso putaria porra</td>\n",
              "      <td>sei cotas sabia disso putaria porra</td>\n",
              "      <td>sei cot sab diss put porr</td>\n",
              "    </tr>\n",
              "    <tr>\n",
              "      <th>5668</th>\n",
              "      <td>seguir no tt é facíl, apresentar as amigas sa...</td>\n",
              "      <td>1</td>\n",
              "      <td>1</td>\n",
              "      <td>C</td>\n",
              "      <td>1.0</td>\n",
              "      <td>S</td>\n",
              "      <td>0</td>\n",
              "      <td>A</td>\n",
              "      <td>seguir tt facíl, apresentar amigas sapatão ngm...</td>\n",
              "      <td>seguir tt facíl apresentar amigas sapatão ngm ...</td>\n",
              "      <td>seguir tt facil apresentar amigas sapatao ngm ...</td>\n",
              "      <td>seguir tt facil apresentar amigas sapatao ngm ...</td>\n",
              "      <td>segu tt facil apresent amig sapata ngm qu kkkkkk</td>\n",
              "    </tr>\n",
              "    <tr>\n",
              "      <th>5669</th>\n",
              "      <td>na vdd a culpa é do menino de 11 anos otário q...</td>\n",
              "      <td>1</td>\n",
              "      <td>1</td>\n",
              "      <td>E</td>\n",
              "      <td>1.0</td>\n",
              "      <td>It</td>\n",
              "      <td>0</td>\n",
              "      <td>D</td>\n",
              "      <td>vdd culpa menino 11 anos otário chamava burra/...</td>\n",
              "      <td>vdd culpa menino 11 anos otário chamava burra ...</td>\n",
              "      <td>vdd culpa menino 11 anos otario chamava burra ...</td>\n",
              "      <td>vdd culpa menino 11 anos otario chamava burra ...</td>\n",
              "      <td>vdd culp menin 11 ano otari cham burr gord fei...</td>\n",
              "    </tr>\n",
              "  </tbody>\n",
              "</table>\n",
              "<p>1788 rows × 13 columns</p>\n",
              "</div>\n",
              "      <button class=\"colab-df-convert\" onclick=\"convertToInteractive('df-2f60a666-8ba3-4d6f-ae65-cd4b01545fa4')\"\n",
              "              title=\"Convert this dataframe to an interactive table.\"\n",
              "              style=\"display:none;\">\n",
              "        \n",
              "  <svg xmlns=\"http://www.w3.org/2000/svg\" height=\"24px\"viewBox=\"0 0 24 24\"\n",
              "       width=\"24px\">\n",
              "    <path d=\"M0 0h24v24H0V0z\" fill=\"none\"/>\n",
              "    <path d=\"M18.56 5.44l.94 2.06.94-2.06 2.06-.94-2.06-.94-.94-2.06-.94 2.06-2.06.94zm-11 1L8.5 8.5l.94-2.06 2.06-.94-2.06-.94L8.5 2.5l-.94 2.06-2.06.94zm10 10l.94 2.06.94-2.06 2.06-.94-2.06-.94-.94-2.06-.94 2.06-2.06.94z\"/><path d=\"M17.41 7.96l-1.37-1.37c-.4-.4-.92-.59-1.43-.59-.52 0-1.04.2-1.43.59L10.3 9.45l-7.72 7.72c-.78.78-.78 2.05 0 2.83L4 21.41c.39.39.9.59 1.41.59.51 0 1.02-.2 1.41-.59l7.78-7.78 2.81-2.81c.8-.78.8-2.07 0-2.86zM5.41 20L4 18.59l7.72-7.72 1.47 1.35L5.41 20z\"/>\n",
              "  </svg>\n",
              "      </button>\n",
              "      \n",
              "  <style>\n",
              "    .colab-df-container {\n",
              "      display:flex;\n",
              "      flex-wrap:wrap;\n",
              "      gap: 12px;\n",
              "    }\n",
              "\n",
              "    .colab-df-convert {\n",
              "      background-color: #E8F0FE;\n",
              "      border: none;\n",
              "      border-radius: 50%;\n",
              "      cursor: pointer;\n",
              "      display: none;\n",
              "      fill: #1967D2;\n",
              "      height: 32px;\n",
              "      padding: 0 0 0 0;\n",
              "      width: 32px;\n",
              "    }\n",
              "\n",
              "    .colab-df-convert:hover {\n",
              "      background-color: #E2EBFA;\n",
              "      box-shadow: 0px 1px 2px rgba(60, 64, 67, 0.3), 0px 1px 3px 1px rgba(60, 64, 67, 0.15);\n",
              "      fill: #174EA6;\n",
              "    }\n",
              "\n",
              "    [theme=dark] .colab-df-convert {\n",
              "      background-color: #3B4455;\n",
              "      fill: #D2E3FC;\n",
              "    }\n",
              "\n",
              "    [theme=dark] .colab-df-convert:hover {\n",
              "      background-color: #434B5C;\n",
              "      box-shadow: 0px 1px 3px 1px rgba(0, 0, 0, 0.15);\n",
              "      filter: drop-shadow(0px 1px 2px rgba(0, 0, 0, 0.3));\n",
              "      fill: #FFFFFF;\n",
              "    }\n",
              "  </style>\n",
              "\n",
              "      <script>\n",
              "        const buttonEl =\n",
              "          document.querySelector('#df-2f60a666-8ba3-4d6f-ae65-cd4b01545fa4 button.colab-df-convert');\n",
              "        buttonEl.style.display =\n",
              "          google.colab.kernel.accessAllowed ? 'block' : 'none';\n",
              "\n",
              "        async function convertToInteractive(key) {\n",
              "          const element = document.querySelector('#df-2f60a666-8ba3-4d6f-ae65-cd4b01545fa4');\n",
              "          const dataTable =\n",
              "            await google.colab.kernel.invokeFunction('convertToInteractive',\n",
              "                                                     [key], {});\n",
              "          if (!dataTable) return;\n",
              "\n",
              "          const docLinkHtml = 'Like what you see? Visit the ' +\n",
              "            '<a target=\"_blank\" href=https://colab.research.google.com/notebooks/data_table.ipynb>data table notebook</a>'\n",
              "            + ' to learn more about interactive tables.';\n",
              "          element.innerHTML = '';\n",
              "          dataTable['output_type'] = 'display_data';\n",
              "          await google.colab.output.renderOutput(dataTable, element);\n",
              "          const docLink = document.createElement('div');\n",
              "          docLink.innerHTML = docLinkHtml;\n",
              "          element.appendChild(docLink);\n",
              "        }\n",
              "      </script>\n",
              "    </div>\n",
              "  </div>\n",
              "  "
            ]
          },
          "metadata": {},
          "execution_count": 14
        }
      ]
    },
    {
      "cell_type": "markdown",
      "source": [
        "# [4] Classificação e vetorização com TF-IDF e regressão logística\n"
      ],
      "metadata": {
        "id": "g_krBQ78Tz9D"
      }
    },
    {
      "cell_type": "code",
      "source": [
        "from sklearn.model_selection import train_test_split\n",
        "from sklearn.feature_extraction.text import TfidfVectorizer\n",
        "import pandas as pd\n",
        "from sklearn.metrics import precision_score\n",
        "from sklearn.metrics import classification_report\n",
        "from sklearn.linear_model import LogisticRegression\n",
        "from sklearn.metrics import confusion_matrix\n",
        "\n",
        "def classificar_texto_tfidf(texto, coluna_texto, coluna_classificacao, hasResultados, texto_teste=list()):\n",
        "    tfidf = TfidfVectorizer(lowercase=False, ngram_range = (1,1))\n",
        "\n",
        "    tfidf_bruto = tfidf.fit_transform(texto[coluna_texto])\n",
        "    treino, teste, classe_treino, classe_teste = train_test_split(tfidf_bruto,\n",
        "                                                              texto[coluna_classificacao],\n",
        "                                                              train_size=0.7,\n",
        "                                                              random_state = 42,\n",
        "                                                              stratify=texto[coluna_classificacao])\n",
        "   \n",
        "    regressao_logistica = LogisticRegression(solver = \"lbfgs\")\n",
        "    regressao_logistica.fit(treino, classe_treino)\n",
        "\n",
        "    predict_result = []\n",
        "    if hasResultados:\n",
        "      predict_result = regressao_logistica.predict(teste)\n",
        "    else:\n",
        "      tfidf_tweets = tfidf.transform(texto_teste['tratamento_5'])\n",
        "      predict_result = regressao_logistica.predict(tfidf_tweets)\n",
        "\n",
        "    if hasResultados:\n",
        "      matriz_confusao = confusion_matrix(classe_teste, predict_result)\n",
        "      print('Verdadeiro negativo %f' % matriz_confusao[0][0])\n",
        "      print('Falso negativo %f' % matriz_confusao[0][1])\n",
        "      print('Falso positivo %f' % matriz_confusao[1][0])\n",
        "      print('Verdadeiro positivo %f' % matriz_confusao[1][1])\n",
        "      print(matriz_confusao)\n",
        "      print(classification_report(classe_teste, predict_result))\n",
        "      return []\n",
        "\n",
        "    return predict_result"
      ],
      "metadata": {
        "id": "OR4tdTWtTy9i"
      },
      "execution_count": null,
      "outputs": []
    },
    {
      "cell_type": "code",
      "source": [
        "classificar_texto_tfidf(odio, 'tratamento_5', 'hatespeech_comb', True)"
      ],
      "metadata": {
        "colab": {
          "base_uri": "https://localhost:8080/"
        },
        "id": "a1JY6V5o1aAc",
        "outputId": "f753263c-8e39-4304-c61c-3864415ba053"
      },
      "execution_count": null,
      "outputs": [
        {
          "output_type": "stream",
          "name": "stdout",
          "text": [
            "Verdadeiro negativo 1118.000000\n",
            "Falso negativo 47.000000\n",
            "Falso positivo 375.000000\n",
            "Verdadeiro positivo 162.000000\n",
            "[[1118   47]\n",
            " [ 375  162]]\n",
            "              precision    recall  f1-score   support\n",
            "\n",
            "           0       0.75      0.96      0.84      1165\n",
            "           1       0.78      0.30      0.43       537\n",
            "\n",
            "    accuracy                           0.75      1702\n",
            "   macro avg       0.76      0.63      0.64      1702\n",
            "weighted avg       0.76      0.75      0.71      1702\n",
            "\n"
          ]
        },
        {
          "output_type": "execute_result",
          "data": {
            "text/plain": [
              "[]"
            ]
          },
          "metadata": {},
          "execution_count": 49
        }
      ]
    },
    {
      "cell_type": "code",
      "source": [
        "#Predição para a base de tweets da campanha eleitoral (total)\n",
        "predict_result_tweets = classificar_texto_tfidf(odio, 'tratamento_5', 'hatespeech_comb', False, tweets)\n",
        "tweets['classificacao'] = predict_result_tweets\n",
        "\n",
        "#Predição para a base de tweets do Lula\n",
        "predict_result_lula = classificar_texto_tfidf(odio, 'tratamento_5', 'hatespeech_comb', False, lula)\n",
        "lula['classificacao'] = predict_result_lula\n",
        "\n",
        "#Predição para a base de tweets do Bolsonaro\n",
        "predict_result_bolsonaro = classificar_texto_tfidf(odio, 'tratamento_5', 'hatespeech_comb', False, bolsonaro)\n",
        "bolsonaro['classificacao'] = predict_result_bolsonaro\n",
        "\n",
        "#Predição para a base de tweets do Boulos\n",
        "predict_result_boulos = classificar_texto_tfidf(odio, 'tratamento_5', 'hatespeech_comb', False, boulos)\n",
        "boulos['classificacao'] = predict_result_boulos\n",
        "\n",
        "#Predição para a base de tweets do Nikolas\n",
        "predict_result_nikolas = classificar_texto_tfidf(odio, 'tratamento_5', 'hatespeech_comb', False, nikolas)\n",
        "nikolas['classificacao'] = predict_result_nikolas"
      ],
      "metadata": {
        "id": "4DfQcJGNoTKQ"
      },
      "execution_count": null,
      "outputs": []
    },
    {
      "cell_type": "code",
      "source": [
        "resultado = tweets[tweets.classificacao == 1]\n",
        "len(resultado)"
      ],
      "metadata": {
        "colab": {
          "base_uri": "https://localhost:8080/"
        },
        "id": "VDUVwgj6HQtF",
        "outputId": "ff2e7444-4200-4145-8615-ce8e38c79c0f"
      },
      "execution_count": null,
      "outputs": [
        {
          "output_type": "execute_result",
          "data": {
            "text/plain": [
              "327"
            ]
          },
          "metadata": {},
          "execution_count": 29
        }
      ]
    },
    {
      "cell_type": "code",
      "source": [
        "resultado = lula[lula.classificacao == 1]\n",
        "len(resultado)"
      ],
      "metadata": {
        "colab": {
          "base_uri": "https://localhost:8080/"
        },
        "id": "6ENzzm1KKngD",
        "outputId": "8e36e15a-f0da-4fbb-a444-797a9e12049b"
      },
      "execution_count": null,
      "outputs": [
        {
          "output_type": "execute_result",
          "data": {
            "text/plain": [
              "4"
            ]
          },
          "metadata": {},
          "execution_count": 30
        }
      ]
    },
    {
      "cell_type": "code",
      "source": [
        "resultado = bolsonaro[bolsonaro.classificacao == 1]\n",
        "len(resultado)"
      ],
      "metadata": {
        "colab": {
          "base_uri": "https://localhost:8080/"
        },
        "id": "DQwVy-wEKqr1",
        "outputId": "66d8c5c7-22b4-4020-da24-408ccb3de55c"
      },
      "execution_count": null,
      "outputs": [
        {
          "output_type": "execute_result",
          "data": {
            "text/plain": [
              "2"
            ]
          },
          "metadata": {},
          "execution_count": 31
        }
      ]
    },
    {
      "cell_type": "code",
      "source": [
        "resultado = boulos[boulos.classificacao == 1]\n",
        "len(resultado)"
      ],
      "metadata": {
        "colab": {
          "base_uri": "https://localhost:8080/"
        },
        "id": "K9zENDxWKtcO",
        "outputId": "34fc15d3-3e9e-4f24-b66b-8cdbcf4798cb"
      },
      "execution_count": null,
      "outputs": [
        {
          "output_type": "execute_result",
          "data": {
            "text/plain": [
              "3"
            ]
          },
          "metadata": {},
          "execution_count": 32
        }
      ]
    },
    {
      "cell_type": "code",
      "source": [
        "resultado = nikolas[nikolas.classificacao == 1]\n",
        "len(resultado)"
      ],
      "metadata": {
        "colab": {
          "base_uri": "https://localhost:8080/"
        },
        "id": "M7Um9MpOKvsB",
        "outputId": "de004d38-8b0e-4456-df4f-d9415de75d4c"
      },
      "execution_count": null,
      "outputs": [
        {
          "output_type": "execute_result",
          "data": {
            "text/plain": [
              "7"
            ]
          },
          "metadata": {},
          "execution_count": 33
        }
      ]
    },
    {
      "cell_type": "markdown",
      "source": [
        "#[5] Classificação e vetorização com Word Embedding e regressão logística\n"
      ],
      "metadata": {
        "id": "AQrc_9HDVdxk"
      }
    },
    {
      "cell_type": "code",
      "source": [
        "!wget http://143.107.183.175:22980/download.php?file=embeddings/glove/glove_s100.zip"
      ],
      "metadata": {
        "colab": {
          "base_uri": "https://localhost:8080/"
        },
        "id": "3gWCutAfVjzS",
        "outputId": "39501fa3-2b0d-4af1-8aa6-7ffdff9d3711"
      },
      "execution_count": null,
      "outputs": [
        {
          "output_type": "stream",
          "name": "stdout",
          "text": [
            "--2022-11-06 18:47:07--  http://143.107.183.175:22980/download.php?file=embeddings/glove/glove_s100.zip\n",
            "Connecting to 143.107.183.175:22980... connected.\n",
            "HTTP request sent, awaiting response... 200 OK\n",
            "Length: 348388454 (332M) [application/octet-stream]\n",
            "Saving to: ‘download.php?file=embeddings%2Fglove%2Fglove_s100.zip’\n",
            "\n",
            "download.php?file=e 100%[===================>] 332.25M  11.2MB/s    in 30s     \n",
            "\n",
            "2022-11-06 18:47:37 (10.9 MB/s) - ‘download.php?file=embeddings%2Fglove%2Fglove_s100.zip’ saved [348388454/348388454]\n",
            "\n"
          ]
        }
      ]
    },
    {
      "cell_type": "code",
      "source": [
        "!unzip glove_s100.zip"
      ],
      "metadata": {
        "colab": {
          "base_uri": "https://localhost:8080/"
        },
        "id": "xVEHTvV1VsC8",
        "outputId": "baa8c0ee-cb1b-4112-b7b1-91786da350cc"
      },
      "execution_count": null,
      "outputs": [
        {
          "output_type": "stream",
          "name": "stdout",
          "text": [
            "Archive:  glove_s100.zip\n",
            "  inflating: glove_s100.txt          \n"
          ]
        }
      ]
    },
    {
      "cell_type": "code",
      "source": [
        "from gensim.models import Word2Vec\n",
        "import gensim.downloader as api\n",
        "from gensim.models import KeyedVectors\n",
        "import numpy as np\n",
        "from sklearn.model_selection import train_test_split\n",
        "from sklearn.linear_model import LogisticRegression\n",
        "from sklearn.metrics import confusion_matrix\n",
        "from sklearn.metrics import classification_report\n",
        "\n",
        "def classificar_texto_w2v(texto, coluna_texto, coluna_classificacao, hasResultados, texto_teste=[]):\n",
        "  modelo = KeyedVectors.load_word2vec_format('glove_s100.txt')\n",
        "\n",
        "  sentencas = []\n",
        "  for s in texto[coluna_texto]:\n",
        "    vetor = []\n",
        "    for p in s.split():\n",
        "      if p in modelo.wv:\n",
        "        vetor.append(modelo.wv[p])\n",
        "    embedding = np.array(vetor).mean(axis=0)\n",
        "    if embedding.shape != (100,):\n",
        "      embedding = np.zeros((100,))\n",
        "    sentencas.append(embedding)\n",
        "\n",
        "  sentencas = np.array(sentencas)\n",
        "\n",
        "  treino, teste, classe_treino, classe_teste = train_test_split(sentencas,\n",
        "                                                            texto[coluna_classificacao],\n",
        "                                                            train_size=0.7,\n",
        "                                                            random_state = 42,\n",
        "                                                            stratify=texto[coluna_classificacao])\n",
        "  print(\"teste y: \", sum(classe_teste) / len(teste))\n",
        "  print(\"treino y: \", + sum(classe_treino) / len(treino))\n",
        "\n",
        "  sentencas_teste = []\n",
        "  if hasResultados == False:\n",
        "    for s in texto_teste[coluna_texto]:\n",
        "      vetor = []\n",
        "      for p in s.split():\n",
        "        if p in modelo.wv:\n",
        "          vetor.append(modelo.wv[p])\n",
        "      embedding = np.array(vetor).mean(axis=0)\n",
        "      if embedding.shape != (100,):\n",
        "        embedding = np.zeros((100,))\n",
        "      sentencas_teste.append(embedding)\n",
        "    sentencas_teste = np.array(sentencas_teste)\n",
        "\n",
        "  regressao_logistica = LogisticRegression(solver = \"lbfgs\", max_iter=200)\n",
        "  regressao_logistica.fit(treino, classe_treino)\n",
        "  predict_result = []\n",
        "  \n",
        "  if hasResultados:\n",
        "    predict_result = regressao_logistica.predict(teste)\n",
        "  else:\n",
        "    predict_result = regressao_logistica.predict(sentencas_teste)\n",
        "\n",
        "  if hasResultados:\n",
        "    matriz_confusao = confusion_matrix(classe_teste, predict_result)\n",
        "    print('Verdadeiro negativo %f' % matriz_confusao[0][0])\n",
        "    print('Falso negativo %f' % matriz_confusao[0][1])\n",
        "    print('Falso positivo %f' % matriz_confusao[1][0])\n",
        "    print('Verdadeiro positivo %f' % matriz_confusao[1][1])\n",
        "    print(matriz_confusao)\n",
        "    print(classification_report(classe_teste, predict_result))\n",
        "\n",
        "  return predict_result"
      ],
      "metadata": {
        "id": "xb5bLDG-VcMk"
      },
      "execution_count": null,
      "outputs": []
    },
    {
      "cell_type": "code",
      "source": [
        "predict = classificar_texto_w2v(odio, 'tratamento_4', 'hatespeech_comb', True)"
      ],
      "metadata": {
        "colab": {
          "base_uri": "https://localhost:8080/"
        },
        "id": "wO8pLrZO4n9d",
        "outputId": "24c6d88a-db25-49bf-eef1-0c57ca515218"
      },
      "execution_count": null,
      "outputs": [
        {
          "output_type": "stream",
          "name": "stderr",
          "text": [
            "/usr/local/lib/python3.7/dist-packages/ipykernel_launcher.py:17: DeprecationWarning: Call to deprecated `wv` (Attribute will be removed in 4.0.0, use self instead).\n",
            "/usr/local/lib/python3.7/dist-packages/ipykernel_launcher.py:18: DeprecationWarning: Call to deprecated `wv` (Attribute will be removed in 4.0.0, use self instead).\n",
            "/usr/local/lib/python3.7/dist-packages/ipykernel_launcher.py:19: RuntimeWarning: Mean of empty slice.\n",
            "/usr/local/lib/python3.7/dist-packages/numpy/core/_methods.py:189: RuntimeWarning: invalid value encountered in double_scalars\n",
            "  ret = ret.dtype.type(ret / rcount)\n"
          ]
        },
        {
          "output_type": "stream",
          "name": "stdout",
          "text": [
            "teste y:  0.31551116333725027\n",
            "treino y:  0.3152721774193548\n",
            "Verdadeiro negativo 1065.000000\n",
            "Falso negativo 100.000000\n",
            "Falso positivo 371.000000\n",
            "Verdadeiro positivo 166.000000\n",
            "[[1065  100]\n",
            " [ 371  166]]\n",
            "              precision    recall  f1-score   support\n",
            "\n",
            "           0       0.74      0.91      0.82      1165\n",
            "           1       0.62      0.31      0.41       537\n",
            "\n",
            "    accuracy                           0.72      1702\n",
            "   macro avg       0.68      0.61      0.62      1702\n",
            "weighted avg       0.70      0.72      0.69      1702\n",
            "\n"
          ]
        }
      ]
    },
    {
      "cell_type": "code",
      "source": [
        "#Predição para a base de tweets da campanha eleitoral\n",
        "predict_result_tweets = classificar_texto_w2v(odio, 'tratamento_4', 'hatespeech_comb', False, tweets)\n",
        "tweets['classificacao'] = predict_result_tweets\n",
        "\n",
        "#Predição para a base de tweets do Lula\n",
        "predict_result_lula = classificar_texto_w2v(odio, 'tratamento_4', 'hatespeech_comb', False, lula)\n",
        "lula['classificacao'] = predict_result_lula\n",
        "\n",
        "#Predição para a base de tweets do Bolsonaro\n",
        "predict_result_bolsonaro = classificar_texto_w2v(odio, 'tratamento_4', 'hatespeech_comb', False, bolsonaro)\n",
        "bolsonaro['classificacao'] = predict_result_bolsonaro\n",
        "\n",
        "#Predição para a base de tweets do Boulos\n",
        "predict_result_boulos = classificar_texto_w2v(odio, 'tratamento_4', 'hatespeech_comb', False, boulos)\n",
        "boulos['classificacao'] = predict_result_boulos\n",
        "\n",
        "#Predição para a base de tweets do Nikolas\n",
        "predict_result_nikolas = classificar_texto_w2v(odio, 'tratamento_4', 'hatespeech_comb', False, nikolas)\n",
        "nikolas['classificacao'] = predict_result_nikolas"
      ],
      "metadata": {
        "id": "yPosm6oYtqRU",
        "colab": {
          "base_uri": "https://localhost:8080/"
        },
        "outputId": "d6b99396-d48e-4590-fa48-175d5db4e6ed"
      },
      "execution_count": null,
      "outputs": [
        {
          "output_type": "stream",
          "name": "stderr",
          "text": [
            "/usr/local/lib/python3.7/dist-packages/ipykernel_launcher.py:17: DeprecationWarning: Call to deprecated `wv` (Attribute will be removed in 4.0.0, use self instead).\n",
            "/usr/local/lib/python3.7/dist-packages/ipykernel_launcher.py:18: DeprecationWarning: Call to deprecated `wv` (Attribute will be removed in 4.0.0, use self instead).\n",
            "/usr/local/lib/python3.7/dist-packages/ipykernel_launcher.py:19: RuntimeWarning: Mean of empty slice.\n",
            "/usr/local/lib/python3.7/dist-packages/numpy/core/_methods.py:189: RuntimeWarning: invalid value encountered in double_scalars\n",
            "  ret = ret.dtype.type(ret / rcount)\n"
          ]
        },
        {
          "output_type": "stream",
          "name": "stdout",
          "text": [
            "teste y:  0.31551116333725027\n",
            "treino y:  0.3152721774193548\n"
          ]
        },
        {
          "output_type": "stream",
          "name": "stderr",
          "text": [
            "/usr/local/lib/python3.7/dist-packages/ipykernel_launcher.py:39: DeprecationWarning: Call to deprecated `wv` (Attribute will be removed in 4.0.0, use self instead).\n",
            "/usr/local/lib/python3.7/dist-packages/ipykernel_launcher.py:40: DeprecationWarning: Call to deprecated `wv` (Attribute will be removed in 4.0.0, use self instead).\n",
            "/usr/local/lib/python3.7/dist-packages/ipykernel_launcher.py:41: RuntimeWarning: Mean of empty slice.\n",
            "/usr/local/lib/python3.7/dist-packages/numpy/core/_methods.py:189: RuntimeWarning: invalid value encountered in double_scalars\n",
            "  ret = ret.dtype.type(ret / rcount)\n",
            "/usr/local/lib/python3.7/dist-packages/ipykernel_launcher.py:17: DeprecationWarning: Call to deprecated `wv` (Attribute will be removed in 4.0.0, use self instead).\n",
            "/usr/local/lib/python3.7/dist-packages/ipykernel_launcher.py:18: DeprecationWarning: Call to deprecated `wv` (Attribute will be removed in 4.0.0, use self instead).\n",
            "/usr/local/lib/python3.7/dist-packages/ipykernel_launcher.py:19: RuntimeWarning: Mean of empty slice.\n",
            "/usr/local/lib/python3.7/dist-packages/numpy/core/_methods.py:189: RuntimeWarning: invalid value encountered in double_scalars\n",
            "  ret = ret.dtype.type(ret / rcount)\n"
          ]
        },
        {
          "output_type": "stream",
          "name": "stdout",
          "text": [
            "teste y:  0.31551116333725027\n",
            "treino y:  0.3152721774193548\n"
          ]
        },
        {
          "output_type": "stream",
          "name": "stderr",
          "text": [
            "/usr/local/lib/python3.7/dist-packages/ipykernel_launcher.py:39: DeprecationWarning: Call to deprecated `wv` (Attribute will be removed in 4.0.0, use self instead).\n",
            "/usr/local/lib/python3.7/dist-packages/ipykernel_launcher.py:40: DeprecationWarning: Call to deprecated `wv` (Attribute will be removed in 4.0.0, use self instead).\n",
            "/usr/local/lib/python3.7/dist-packages/ipykernel_launcher.py:41: RuntimeWarning: Mean of empty slice.\n",
            "/usr/local/lib/python3.7/dist-packages/numpy/core/_methods.py:189: RuntimeWarning: invalid value encountered in double_scalars\n",
            "  ret = ret.dtype.type(ret / rcount)\n",
            "/usr/local/lib/python3.7/dist-packages/ipykernel_launcher.py:17: DeprecationWarning: Call to deprecated `wv` (Attribute will be removed in 4.0.0, use self instead).\n",
            "/usr/local/lib/python3.7/dist-packages/ipykernel_launcher.py:18: DeprecationWarning: Call to deprecated `wv` (Attribute will be removed in 4.0.0, use self instead).\n",
            "/usr/local/lib/python3.7/dist-packages/ipykernel_launcher.py:19: RuntimeWarning: Mean of empty slice.\n",
            "/usr/local/lib/python3.7/dist-packages/numpy/core/_methods.py:189: RuntimeWarning: invalid value encountered in double_scalars\n",
            "  ret = ret.dtype.type(ret / rcount)\n"
          ]
        },
        {
          "output_type": "stream",
          "name": "stdout",
          "text": [
            "teste y:  0.31551116333725027\n",
            "treino y:  0.3152721774193548\n"
          ]
        },
        {
          "output_type": "stream",
          "name": "stderr",
          "text": [
            "/usr/local/lib/python3.7/dist-packages/ipykernel_launcher.py:39: DeprecationWarning: Call to deprecated `wv` (Attribute will be removed in 4.0.0, use self instead).\n",
            "/usr/local/lib/python3.7/dist-packages/ipykernel_launcher.py:40: DeprecationWarning: Call to deprecated `wv` (Attribute will be removed in 4.0.0, use self instead).\n",
            "/usr/local/lib/python3.7/dist-packages/ipykernel_launcher.py:41: RuntimeWarning: Mean of empty slice.\n",
            "/usr/local/lib/python3.7/dist-packages/numpy/core/_methods.py:189: RuntimeWarning: invalid value encountered in double_scalars\n",
            "  ret = ret.dtype.type(ret / rcount)\n",
            "/usr/local/lib/python3.7/dist-packages/ipykernel_launcher.py:17: DeprecationWarning: Call to deprecated `wv` (Attribute will be removed in 4.0.0, use self instead).\n",
            "/usr/local/lib/python3.7/dist-packages/ipykernel_launcher.py:18: DeprecationWarning: Call to deprecated `wv` (Attribute will be removed in 4.0.0, use self instead).\n",
            "/usr/local/lib/python3.7/dist-packages/ipykernel_launcher.py:19: RuntimeWarning: Mean of empty slice.\n",
            "/usr/local/lib/python3.7/dist-packages/numpy/core/_methods.py:189: RuntimeWarning: invalid value encountered in double_scalars\n",
            "  ret = ret.dtype.type(ret / rcount)\n"
          ]
        },
        {
          "output_type": "stream",
          "name": "stdout",
          "text": [
            "teste y:  0.31551116333725027\n",
            "treino y:  0.3152721774193548\n"
          ]
        },
        {
          "output_type": "stream",
          "name": "stderr",
          "text": [
            "/usr/local/lib/python3.7/dist-packages/ipykernel_launcher.py:39: DeprecationWarning: Call to deprecated `wv` (Attribute will be removed in 4.0.0, use self instead).\n",
            "/usr/local/lib/python3.7/dist-packages/ipykernel_launcher.py:40: DeprecationWarning: Call to deprecated `wv` (Attribute will be removed in 4.0.0, use self instead).\n",
            "/usr/local/lib/python3.7/dist-packages/ipykernel_launcher.py:41: RuntimeWarning: Mean of empty slice.\n",
            "/usr/local/lib/python3.7/dist-packages/numpy/core/_methods.py:189: RuntimeWarning: invalid value encountered in double_scalars\n",
            "  ret = ret.dtype.type(ret / rcount)\n",
            "/usr/local/lib/python3.7/dist-packages/ipykernel_launcher.py:17: DeprecationWarning: Call to deprecated `wv` (Attribute will be removed in 4.0.0, use self instead).\n",
            "/usr/local/lib/python3.7/dist-packages/ipykernel_launcher.py:18: DeprecationWarning: Call to deprecated `wv` (Attribute will be removed in 4.0.0, use self instead).\n",
            "/usr/local/lib/python3.7/dist-packages/ipykernel_launcher.py:19: RuntimeWarning: Mean of empty slice.\n",
            "/usr/local/lib/python3.7/dist-packages/numpy/core/_methods.py:189: RuntimeWarning: invalid value encountered in double_scalars\n",
            "  ret = ret.dtype.type(ret / rcount)\n"
          ]
        },
        {
          "output_type": "stream",
          "name": "stdout",
          "text": [
            "teste y:  0.31551116333725027\n",
            "treino y:  0.3152721774193548\n"
          ]
        },
        {
          "output_type": "stream",
          "name": "stderr",
          "text": [
            "/usr/local/lib/python3.7/dist-packages/ipykernel_launcher.py:39: DeprecationWarning: Call to deprecated `wv` (Attribute will be removed in 4.0.0, use self instead).\n",
            "/usr/local/lib/python3.7/dist-packages/ipykernel_launcher.py:40: DeprecationWarning: Call to deprecated `wv` (Attribute will be removed in 4.0.0, use self instead).\n",
            "/usr/local/lib/python3.7/dist-packages/ipykernel_launcher.py:41: RuntimeWarning: Mean of empty slice.\n",
            "/usr/local/lib/python3.7/dist-packages/numpy/core/_methods.py:189: RuntimeWarning: invalid value encountered in double_scalars\n",
            "  ret = ret.dtype.type(ret / rcount)\n"
          ]
        }
      ]
    },
    {
      "cell_type": "code",
      "source": [
        "resultado = tweets[tweets.classificacao == 1]\n",
        "len(resultado)"
      ],
      "metadata": {
        "colab": {
          "base_uri": "https://localhost:8080/"
        },
        "id": "k9OQ7jZJupL4",
        "outputId": "107f704a-afd3-4e51-8f25-7eca7716d40c"
      },
      "execution_count": null,
      "outputs": [
        {
          "output_type": "execute_result",
          "data": {
            "text/plain": [
              "1209"
            ]
          },
          "metadata": {},
          "execution_count": 21
        }
      ]
    },
    {
      "cell_type": "code",
      "source": [
        "resultado = nikolas[nikolas.classificacao == 1]\n",
        "len(resultado)"
      ],
      "metadata": {
        "colab": {
          "base_uri": "https://localhost:8080/"
        },
        "id": "XGi8CsZEtzqv",
        "outputId": "2ef0179e-1817-410c-bbc8-adee3e517ee6"
      },
      "execution_count": null,
      "outputs": [
        {
          "output_type": "execute_result",
          "data": {
            "text/plain": [
              "37"
            ]
          },
          "metadata": {},
          "execution_count": 22
        }
      ]
    },
    {
      "cell_type": "code",
      "source": [
        "resultado = boulos[boulos.classificacao == 1]\n",
        "len(resultado)"
      ],
      "metadata": {
        "colab": {
          "base_uri": "https://localhost:8080/"
        },
        "id": "SoTQ3wSFt2KE",
        "outputId": "d741c62f-387d-441b-9052-17fa112efcef"
      },
      "execution_count": null,
      "outputs": [
        {
          "output_type": "execute_result",
          "data": {
            "text/plain": [
              "20"
            ]
          },
          "metadata": {},
          "execution_count": 23
        }
      ]
    },
    {
      "cell_type": "code",
      "source": [
        "resultado = lula[lula.classificacao == 1]\n",
        "len(resultado)"
      ],
      "metadata": {
        "colab": {
          "base_uri": "https://localhost:8080/"
        },
        "id": "Dz-JY6Kit5j7",
        "outputId": "133d957d-be7c-4458-eb3c-e7a56ffaa828"
      },
      "execution_count": null,
      "outputs": [
        {
          "output_type": "execute_result",
          "data": {
            "text/plain": [
              "10"
            ]
          },
          "metadata": {},
          "execution_count": 24
        }
      ]
    },
    {
      "cell_type": "code",
      "source": [
        "resultado = bolsonaro[bolsonaro.classificacao == 1]\n",
        "len(resultado)"
      ],
      "metadata": {
        "colab": {
          "base_uri": "https://localhost:8080/"
        },
        "id": "0W_1X-bRt7mH",
        "outputId": "43157bba-d04e-4b7e-fcb8-425b80aec7a5"
      },
      "execution_count": null,
      "outputs": [
        {
          "output_type": "execute_result",
          "data": {
            "text/plain": [
              "4"
            ]
          },
          "metadata": {},
          "execution_count": 25
        }
      ]
    },
    {
      "cell_type": "markdown",
      "source": [
        "#[6] Classificação e vetorização com Word Embedding e redes neurais recorrentes"
      ],
      "metadata": {
        "id": "Zk5ZrJQwe6CK"
      }
    },
    {
      "cell_type": "code",
      "source": [
        "import numpy as np\n",
        "\n",
        "filepath = \"glove_s100.txt\"\n",
        "\n",
        "embeddings_index = {}\n",
        "with open(filepath) as f:\n",
        "    for line in f:\n",
        "        word, coefs = line.split(maxsplit=1)\n",
        "        coefs = np.fromstring(coefs, \"f\", sep=\" \")\n",
        "        embeddings_index[word] = coefs\n",
        "\n",
        "print(\"Total de vetores encontrados: %i.\" % len(embeddings_index))"
      ],
      "metadata": {
        "colab": {
          "base_uri": "https://localhost:8080/"
        },
        "id": "qC4thArUgdcJ",
        "outputId": "118450c1-6bd0-4055-f35a-810c02b5344d"
      },
      "execution_count": null,
      "outputs": [
        {
          "output_type": "stream",
          "name": "stderr",
          "text": [
            "/usr/local/lib/python3.7/dist-packages/ipykernel_launcher.py:9: DeprecationWarning: string or file could not be read to its end due to unmatched data; this will raise a ValueError in the future.\n",
            "  if __name__ == '__main__':\n"
          ]
        },
        {
          "output_type": "stream",
          "name": "stdout",
          "text": [
            "Total de vetores encontrados: 929594.\n"
          ]
        }
      ]
    },
    {
      "cell_type": "code",
      "source": [
        "treino, teste, classe_treino, classe_teste = train_test_split(odio['tratamento_4'],\n",
        "                                                            odio['hatespeech_comb'],\n",
        "                                                            train_size=0.7,\n",
        "                                                            random_state = 42,\n",
        "                                                            stratify=odio['hatespeech_comb'])"
      ],
      "metadata": {
        "id": "aD8jBHQlNEn3"
      },
      "execution_count": null,
      "outputs": []
    },
    {
      "cell_type": "code",
      "source": [
        "count = 0\n",
        "\n",
        "for tweet in odio['tratamento_4']:\n",
        "  count += len(tweet.split())\n",
        "avg_words = int(count / len(odio)) + 1"
      ],
      "metadata": {
        "id": "jH8VN9c8rAv3"
      },
      "execution_count": null,
      "outputs": []
    },
    {
      "cell_type": "code",
      "source": [
        "from tensorflow.keras.layers.experimental.preprocessing import TextVectorization\n",
        "import tensorflow as tf\n",
        "\n",
        "vectorizer = TextVectorization(max_tokens=5000, output_sequence_length=avg_words)\n",
        "ds = tf.data.Dataset.from_tensor_slices(treino).batch(128)\n",
        "vectorizer.adapt(ds)\n",
        "\n",
        "voc = vectorizer.get_vocabulary()\n",
        "word_index = dict(zip(voc, range(len(voc))))"
      ],
      "metadata": {
        "id": "Vq_frOdSNAfp"
      },
      "execution_count": null,
      "outputs": []
    },
    {
      "cell_type": "code",
      "source": [
        "num_tokens = len(voc) + 2\n",
        "embedding_dim = 100\n",
        "hits = 0\n",
        "misses = 0\n",
        "\n",
        "embedding_matrix = np.zeros((num_tokens, embedding_dim))\n",
        "for word, i in word_index.items():\n",
        "    embedding_vector = embeddings_index.get(word)\n",
        "    \n",
        "    if embedding_vector is not None and embedding_vector.shape == (100,):\n",
        "        embedding_matrix[i] = embedding_vector\n",
        "        hits += 1\n",
        "    else:\n",
        "        misses += 1\n",
        "print(\"Palavras obtidas %d e perdidas %d\" % (hits, misses))"
      ],
      "metadata": {
        "id": "Woh-jxNtM8WS",
        "colab": {
          "base_uri": "https://localhost:8080/"
        },
        "outputId": "bf8fa3ec-4522-4c48-da77-c1898ec4accc"
      },
      "execution_count": null,
      "outputs": [
        {
          "output_type": "stream",
          "name": "stdout",
          "text": [
            "Palavras obtidas 4673 e perdidas 327\n"
          ]
        }
      ]
    },
    {
      "cell_type": "code",
      "source": [
        "from tensorflow.keras.layers import Embedding\n",
        "\n",
        "embedding_layer = Embedding(\n",
        "    num_tokens,\n",
        "    embedding_dim,\n",
        "    embeddings_initializer=tf.keras.initializers.Constant(embedding_matrix),\n",
        "    trainable=False,\n",
        ")"
      ],
      "metadata": {
        "id": "vAR_1GFPghVH"
      },
      "execution_count": null,
      "outputs": []
    },
    {
      "cell_type": "code",
      "source": [
        "from tensorflow.keras import layers\n",
        "\n",
        "model = tf.keras.Sequential([\n",
        "    tf.keras.Input(shape=(1,), dtype=\"string\"),  \n",
        "    vectorizer,\n",
        "    embedding_layer,\n",
        "    layers.Bidirectional(layers.LSTM(64)),\n",
        "    layers.Dense(5, activation='relu'),\n",
        "    layers.Dense(1, activation='sigmoid')\n",
        "])\n",
        "\n",
        "model.compile(optimizer='adam',\n",
        "              loss='binary_crossentropy',\n",
        "              metrics=['accuracy'])\n",
        "\n",
        "model.summary()"
      ],
      "metadata": {
        "colab": {
          "base_uri": "https://localhost:8080/"
        },
        "id": "2uCrv6Yve89-",
        "outputId": "3c7905a4-713d-4d7e-d8e8-6594b1b63a86"
      },
      "execution_count": null,
      "outputs": [
        {
          "output_type": "stream",
          "name": "stdout",
          "text": [
            "Model: \"sequential_1\"\n",
            "_________________________________________________________________\n",
            " Layer (type)                Output Shape              Param #   \n",
            "=================================================================\n",
            " text_vectorization (TextVec  (None, 9)                0         \n",
            " torization)                                                     \n",
            "                                                                 \n",
            " embedding (Embedding)       (None, 9, 100)            500200    \n",
            "                                                                 \n",
            " bidirectional_1 (Bidirectio  (None, 128)              84480     \n",
            " nal)                                                            \n",
            "                                                                 \n",
            " dense_2 (Dense)             (None, 5)                 645       \n",
            "                                                                 \n",
            " dense_3 (Dense)             (None, 1)                 6         \n",
            "                                                                 \n",
            "=================================================================\n",
            "Total params: 585,331\n",
            "Trainable params: 85,131\n",
            "Non-trainable params: 500,200\n",
            "_________________________________________________________________\n"
          ]
        }
      ]
    },
    {
      "cell_type": "code",
      "source": [
        "history = model.fit(treino, classe_treino, batch_size=128, epochs=7, validation_data=(teste, classe_teste))"
      ],
      "metadata": {
        "colab": {
          "base_uri": "https://localhost:8080/"
        },
        "id": "H8FHeW_Ji-g2",
        "outputId": "42d8459e-c2de-4236-c629-d13e9d596c19"
      },
      "execution_count": null,
      "outputs": [
        {
          "output_type": "stream",
          "name": "stdout",
          "text": [
            "Epoch 1/7\n",
            "31/31 [==============================] - 8s 75ms/step - loss: 0.6130 - accuracy: 0.6935 - val_loss: 0.5697 - val_accuracy: 0.7168\n",
            "Epoch 2/7\n",
            "31/31 [==============================] - 1s 39ms/step - loss: 0.5602 - accuracy: 0.7188 - val_loss: 0.5538 - val_accuracy: 0.7309\n",
            "Epoch 3/7\n",
            "31/31 [==============================] - 1s 39ms/step - loss: 0.5363 - accuracy: 0.7402 - val_loss: 0.5496 - val_accuracy: 0.7268\n",
            "Epoch 4/7\n",
            "31/31 [==============================] - 1s 39ms/step - loss: 0.5242 - accuracy: 0.7440 - val_loss: 0.5514 - val_accuracy: 0.7280\n",
            "Epoch 5/7\n",
            "31/31 [==============================] - 1s 39ms/step - loss: 0.5091 - accuracy: 0.7528 - val_loss: 0.5464 - val_accuracy: 0.7338\n",
            "Epoch 6/7\n",
            "31/31 [==============================] - 1s 39ms/step - loss: 0.4936 - accuracy: 0.7649 - val_loss: 0.5476 - val_accuracy: 0.7297\n",
            "Epoch 7/7\n",
            "31/31 [==============================] - 1s 38ms/step - loss: 0.4761 - accuracy: 0.7752 - val_loss: 0.5503 - val_accuracy: 0.7297\n"
          ]
        }
      ]
    },
    {
      "cell_type": "code",
      "source": [
        "import matplotlib.pyplot as plt\n",
        "\n",
        "def plot_loss(history):\n",
        "    plt.plot(history.history['loss'], label='loss')\n",
        "    plt.plot(history.history['val_loss'], label='val_loss')\n",
        "    plt.xlabel('Épocas')\n",
        "    plt.ylabel('Erro')\n",
        "    plt.legend()\n",
        "    plt.grid(True)\n",
        "\n",
        "\n",
        "def plot_acc(history):\n",
        "    plt.plot(history.history['accuracy'], label='acc')\n",
        "    plt.plot(history.history['val_accuracy'], label='val_acc')\n",
        "    plt.xlabel('Épocas')\n",
        "    plt.ylabel('Acurácia')\n",
        "    plt.legend()\n",
        "    plt.grid(True)"
      ],
      "metadata": {
        "id": "dEbGOG2SuDuw"
      },
      "execution_count": null,
      "outputs": []
    },
    {
      "cell_type": "code",
      "source": [
        "plot_loss(history)"
      ],
      "metadata": {
        "colab": {
          "base_uri": "https://localhost:8080/",
          "height": 281
        },
        "id": "BTBhj3XwuE37",
        "outputId": "27a5ae0e-ff8c-49e4-f4c1-d63037048306"
      },
      "execution_count": null,
      "outputs": [
        {
          "output_type": "display_data",
          "data": {
            "text/plain": [
              "<Figure size 432x288 with 1 Axes>"
            ],
            "image/png": "[encoded data removed]"
          },
          "metadata": {
            "needs_background": "light"
          }
        }
      ]
    },
    {
      "cell_type": "code",
      "source": [
        "plot_acc(history)"
      ],
      "metadata": {
        "colab": {
          "base_uri": "https://localhost:8080/",
          "height": 281
        },
        "id": "a7Vc4FK3uHYr",
        "outputId": "7a8fa5ad-b04d-4bd1-eb1d-e809e3cca80a"
      },
      "execution_count": null,
      "outputs": [
        {
          "output_type": "display_data",
          "data": {
            "text/plain": [
              "<Figure size 432x288 with 1 Axes>"
            ],
            "image/png": "[encoded data removed]"
          },
          "metadata": {
            "needs_background": "light"
          }
        }
      ]
    },
    {
      "cell_type": "code",
      "source": [
        "def generate_result(predict_result):\n",
        "  result = []\n",
        "  for item in predict_result:\n",
        "    if item >= 0.5:\n",
        "      result.append(1)\n",
        "    else:\n",
        "      result.append(0)\n",
        "  return result"
      ],
      "metadata": {
        "id": "EJGreGKTBhcx"
      },
      "execution_count": null,
      "outputs": []
    },
    {
      "cell_type": "code",
      "source": [
        "predict_result = model.predict(tweets['tratamento_4'])\n",
        "tweets['classificacao'] = generate_result(predict_result)"
      ],
      "metadata": {
        "id": "aNXRxRtk7nz9",
        "colab": {
          "base_uri": "https://localhost:8080/"
        },
        "outputId": "18aacfcb-54ca-4755-d02d-91a120da010e"
      },
      "execution_count": null,
      "outputs": [
        {
          "output_type": "stream",
          "name": "stdout",
          "text": [
            "1137/1137 [==============================] - 7s 5ms/step\n"
          ]
        }
      ]
    },
    {
      "cell_type": "code",
      "source": [
        "predict_result = model.predict(boulos['tratamento_4'])\n",
        "boulos['classificacao'] = generate_result(predict_result)"
      ],
      "metadata": {
        "colab": {
          "base_uri": "https://localhost:8080/"
        },
        "id": "u20oY4_pIJ-f",
        "outputId": "e21c8c2b-f9b3-4395-aebd-ab28120b6d70"
      },
      "execution_count": null,
      "outputs": [
        {
          "output_type": "stream",
          "name": "stdout",
          "text": [
            "43/43 [==============================] - 0s 5ms/step\n"
          ]
        }
      ]
    },
    {
      "cell_type": "code",
      "source": [
        "predict_result = model.predict(bolsonaro['tratamento_4'])\n",
        "bolsonaro['classificacao'] = generate_result(predict_result)"
      ],
      "metadata": {
        "colab": {
          "base_uri": "https://localhost:8080/"
        },
        "id": "OKcUv1EqINhC",
        "outputId": "cbc6e266-64dd-4a1e-b83b-21fa520cd319"
      },
      "execution_count": null,
      "outputs": [
        {
          "output_type": "stream",
          "name": "stdout",
          "text": [
            "18/18 [==============================] - 0s 6ms/step\n"
          ]
        }
      ]
    },
    {
      "cell_type": "code",
      "source": [
        "predict_result = model.predict(lula['tratamento_4'])\n",
        "lula['classificacao'] = generate_result(predict_result)"
      ],
      "metadata": {
        "colab": {
          "base_uri": "https://localhost:8080/"
        },
        "id": "dvj0fAUnIQd9",
        "outputId": "a44b78f9-37c9-41ae-c5df-66e7c020ff07"
      },
      "execution_count": null,
      "outputs": [
        {
          "output_type": "stream",
          "name": "stdout",
          "text": [
            "46/46 [==============================] - 0s 5ms/step\n"
          ]
        }
      ]
    },
    {
      "cell_type": "code",
      "source": [
        "predict_result = model.predict(nikolas['tratamento_4'])\n",
        "nikolas['classificacao'] = generate_result(predict_result)"
      ],
      "metadata": {
        "colab": {
          "base_uri": "https://localhost:8080/"
        },
        "id": "wJLlS-B0ISv7",
        "outputId": "f35110e9-3990-4d9d-d686-f220156227b1"
      },
      "execution_count": null,
      "outputs": [
        {
          "output_type": "stream",
          "name": "stdout",
          "text": [
            "22/22 [==============================] - 0s 6ms/step\n"
          ]
        }
      ]
    },
    {
      "cell_type": "code",
      "source": [
        "print(\"Discursos de ódio identificados para a base de tweets: \", len(tweets[tweets['classificacao'] == 1]))\n",
        "print(\"Discursos de ódio identificados para a base do Lula: \", len(lula[lula['classificacao'] == 1]))\n",
        "print(\"Discursos de ódio identificados para a base do Boulos: \",len(boulos[boulos['classificacao'] == 1]))\n",
        "print(\"Discursos de ódio identificados para a base do Bolsonaro: \", len(bolsonaro[bolsonaro['classificacao'] == 1]))\n",
        "print(\"Discursos de ódio identificados para a base do Nikolas: \", len(nikolas[nikolas['classificacao'] == 1]))"
      ],
      "metadata": {
        "colab": {
          "base_uri": "https://localhost:8080/"
        },
        "id": "-9tetwmS9gVn",
        "outputId": "ab2488e6-293c-4a01-9031-69b7931234ac"
      },
      "execution_count": null,
      "outputs": [
        {
          "output_type": "stream",
          "name": "stdout",
          "text": [
            "Discursos de ódio identificados para a base de tweets:  4315\n",
            "Discursos de ódio identificados para a base do Lula:  84\n",
            "Discursos de ódio identificados para a base do Boulos:  40\n",
            "Discursos de ódio identificados para a base do Bolsonaro:  11\n",
            "Discursos de ódio identificados para a base do Nikolas:  39\n"
          ]
        }
      ]
    }
  ]
}